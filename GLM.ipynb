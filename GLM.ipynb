{
 "cells": [
  {
   "cell_type": "code",
   "execution_count": 9,
   "id": "7f017ad0",
   "metadata": {},
   "outputs": [],
   "source": [
    "import numpy as np\n",
    "import cupy as cp\n",
    "import math\n",
    "import random\n",
    "from matplotlib import pyplot as plt\n",
    "from scipy.optimize import minimize\n",
    "# import os\n",
    "# os.environ['CUDA_VISIBLE_DEVICES']='1'"
   ]
  },
  {
   "cell_type": "markdown",
   "id": "94acaa76",
   "metadata": {},
   "source": [
    "## Basic function"
   ]
  },
  {
   "cell_type": "code",
   "execution_count": 10,
   "id": "c73ec8c5",
   "metadata": {},
   "outputs": [],
   "source": [
    "class Bfun():\n",
    "    '''creat a Bfun for every input factor, consisting of 16 b_i'''\n",
    "\n",
    "    def __init__(self, phis, interval):\n",
    "        self.phis = phis\n",
    "        self.size = phis.shape[0]\n",
    "        self.interval = interval\n",
    "\n",
    "    def forward(self, s):\n",
    "        b = np.zeros(self.size)\n",
    "        for i in range(self.size):\n",
    "            if self.phis[i] - self.interval < s < self.phis[i] + self.interval:\n",
    "                b[i] = 1 / 2 * math.cos(s - self.phis[i]) + 1 / 2\n",
    "            else:\n",
    "                b[i] = 0\n",
    "        return b\n",
    "\n",
    "\n",
    "class PoissonLogPenaltyLoss():\n",
    "    '''loss function with penalty term'''\n",
    "    def __init__(self, c, P, m):\n",
    "        self.c = c\n",
    "        self.P = P\n",
    "        self.m = m\n",
    "        self.prediction = None\n",
    "        self.targets = None\n",
    "\n",
    "    def add_paras(self, inputs, targets):\n",
    "        self.inputs = inputs\n",
    "        self.targets = targets\n",
    "\n",
    "    def loss(self, Ws):\n",
    "        Ws = Ws.reshape((self.m, 16))\n",
    "        _prediction = predict(self.inputs, Ws)\n",
    "        loss = np.sum(-self.targets * _prediction + np.exp(_prediction))\n",
    "        for i in range(self.m):\n",
    "            loss += self.c * (Ws[i, :].reshape((1, 16)) @ self.P @ Ws[i, :].reshape((16, 1))\n",
    "                              + math.sqrt(16) * np.sum(Ws[i, :] ** 2))\n",
    "        return float(loss)\n",
    "\n"
   ]
  },
  {
   "cell_type": "markdown",
   "id": "4e773984",
   "metadata": {},
   "source": [
    "## Prepocessing Data"
   ]
  },
  {
   "cell_type": "code",
   "execution_count": 11,
   "id": "b2d7dc78",
   "metadata": {},
   "outputs": [],
   "source": [
    "# load data\n",
    "cell_num = 884\n",
    "m = 3\n",
    "trial_num = 77\n",
    "positions = np.load('C:/ForLiYuan/Behaviour.npy', allow_pickle=True)\n",
    "speed = np.load('C:/ForLiYuan/Speed.npy', allow_pickle=True)\n",
    "dff_traces = np.load('C:/ForLiYuan/DFF_traces.npy', allow_pickle=True)\n",
    "contexts = np.load('C:/ForLiYuan/Map_index.npy', allow_pickle=True)\n",
    "pointer = np.load('C:/ForLiYuan/sync.npy', allow_pickle=True)"
   ]
  },
  {
   "cell_type": "code",
   "execution_count": 12,
   "id": "79339d44",
   "metadata": {},
   "outputs": [
    {
     "data": {
      "text/plain": [
       "array([ 3205,  3583,  4132,  4778,  5141,  6201,  7032,  7656,  8299,\n",
       "        8811,  9364,  9942, 10497, 11266, 12471, 13013, 13769, 14279,\n",
       "       15046, 16737, 17504, 18045, 19141, 19846, 20466, 21060, 21597,\n",
       "       22737, 23346, 24141, 24720, 25332, 25955, 26443, 27055, 27561,\n",
       "       28129, 28729, 29258, 30168, 30778, 31356, 31937, 32597, 33239,\n",
       "       33874, 34454, 35025, 35583, 36183, 36793, 37408, 37947, 38610,\n",
       "       39334, 39950, 40572, 41130, 41726, 42242, 42818, 43282, 43829,\n",
       "       44363, 44927, 45481, 46031, 46760, 47418, 47962, 49193, 50176,\n",
       "       50812, 51473, 52083, 52792, 53386, 53993])"
      ]
     },
     "execution_count": 12,
     "metadata": {},
     "output_type": "execute_result"
    }
   ],
   "source": [
    "pointer"
   ]
  },
  {
   "cell_type": "code",
   "execution_count": 13,
   "id": "007bc4f8",
   "metadata": {},
   "outputs": [],
   "source": [
    "context = np.zeros(trial_num)\n",
    "for i in range(4):\n",
    "    context[contexts[i]] = i"
   ]
  },
  {
   "cell_type": "code",
   "execution_count": 14,
   "id": "d9179826",
   "metadata": {},
   "outputs": [
    {
     "data": {
      "text/plain": [
       "array([0., 3., 1., 2., 0., 1., 0., 3., 2., 2., 3., 0., 3., 1., 0., 1., 2.,\n",
       "       2., 0., 3., 0., 2., 0., 3., 2., 1., 1., 3., 0., 3., 2., 2., 1., 3.,\n",
       "       0., 1., 2., 1., 2., 0., 1., 3., 2., 0., 1., 3., 3., 1., 2., 0., 3.,\n",
       "       1., 0., 2., 3., 0., 1., 2., 3., 3., 1., 2., 0., 3., 0., 3., 1., 2.,\n",
       "       1., 1., 0., 2., 2., 0., 3., 1., 0.])"
      ]
     },
     "execution_count": 14,
     "metadata": {},
     "output_type": "execute_result"
    }
   ],
   "source": [
    "context"
   ]
  },
  {
   "cell_type": "code",
   "execution_count": 15,
   "id": "941739ac",
   "metadata": {},
   "outputs": [
    {
     "data": {
      "text/plain": [
       "([400.0, 2000.0], [-0.11206820221684037, 128.51277310937513])"
      ]
     },
     "execution_count": 15,
     "metadata": {},
     "output_type": "execute_result"
    }
   ],
   "source": [
    "# determine range of input factors\n",
    "for i in range(trial_num):\n",
    "    if i == 0:\n",
    "        pos_start = np.min(positions[i])\n",
    "        pos_end = np.max(positions[i])\n",
    "        speed_min = np.min(speed[i])\n",
    "        speed_max = np.max(speed[i])\n",
    "    else:\n",
    "        if np.min(positions[i]) < pos_start:\n",
    "            pos_start = np.min(positions[i])\n",
    "        if np.max(positions[i]) > pos_end:\n",
    "            pos_end = np.max(positions[i])\n",
    "        if np.min(speed[i]) < speed_min:\n",
    "            speed_min = np.min(speed[i])\n",
    "        if np.max(speed[i]) > speed_max:\n",
    "            speed_max = np.max(speed[i])\n",
    "[pos_start, pos_end], [speed_min, speed_max]"
   ]
  },
  {
   "cell_type": "markdown",
   "id": "e59bb3ae",
   "metadata": {},
   "source": [
    "### rearrange data into desired format"
   ]
  },
  {
   "cell_type": "code",
   "execution_count": 19,
   "id": "13f89ba8",
   "metadata": {},
   "outputs": [
    {
     "name": "stdout",
     "output_type": "stream",
     "text": [
      "CPU times: total: 31.2 ms\n",
      "Wall time: 8.88 ms\n"
     ]
    }
   ],
   "source": [
    "%%time\n",
    "lenth = []\n",
    "for trial in range(trial_num):\n",
    "    lenth.append(positions[trial].shape[0])\n",
    "lenth = np.array(lenth)\n",
    "total_lenth = np.sum(lenth)\n",
    "inputs = np.zeros((total_lenth, 3))\n",
    "outputs = dff_traces[:, pointer[0]:pointer[-1]]\n",
    "for trial in range(trial_num):\n",
    "    if trial == 0:\n",
    "        inputs[0:lenth[0], 0] = positions[0]\n",
    "        inputs[0:lenth[0], 1] = speed[0]\n",
    "        inputs[0:lenth[0], 2] = context[0]\n",
    "    elif trial == trial_num-1:\n",
    "        a = np.sum(lenth[:-1])\n",
    "        inputs[a:, 0] = positions[-1]\n",
    "        inputs[a:, 1] = speed[-1]\n",
    "        inputs[a:, 2] = context[-1]\n",
    "    else:\n",
    "        a = np.sum(lenth[:trial])\n",
    "        b = np.sum(lenth[:trial+1])\n",
    "        inputs[a:b, 0] = positions[trial]\n",
    "        inputs[a:b, 1] = speed[trial]\n",
    "        inputs[a:b, 2] = context[trial]\n",
    "inputs = cp.array(inputs)"
   ]
  },
  {
   "cell_type": "markdown",
   "id": "4d61c7b0",
   "metadata": {},
   "source": [
    "## GLM"
   ]
  },
  {
   "cell_type": "markdown",
   "id": "8112650f",
   "metadata": {},
   "source": [
    "### initializing hyperparameters"
   ]
  },
  {
   "cell_type": "code",
   "execution_count": 20,
   "id": "2e14d6da",
   "metadata": {},
   "outputs": [],
   "source": [
    "P = np.zeros((16, 16))\n",
    "for i in range(16):\n",
    "    P[i, i] = 2\n",
    "for i in range(1, 16):\n",
    "    P[i, i-1] = -1\n",
    "for i in range(0, 15):\n",
    "    P[i, i+1] = -1\n",
    "c = 1\n",
    "# input factors: positions, speed, context(0, 1, 2, 3)\n",
    "phis = np.zeros((m, 16))\n",
    "inter = np.zeros(m)\n",
    "phis[0, :] = np.linspace(400, 2000, 16)[:]\n",
    "phis[1, :] = np.linspace(-10, 130, 16)[:]\n",
    "phis[2, :] = np.linspace(0, 3, 16)[:]\n",
    "inter[0] = 1600 / 15 * 2\n",
    "inter[1] = 140 / 15 * 2\n",
    "inter[2] = 3 / 15 * 2\n",
    "Bfuncs = []\n",
    "for i in range(m):\n",
    "    Bfuncs.append(Bfun(phis[i], inter[i]))\n",
    "# parameters for Adam optimizer\n",
    "lr = 0.001\n",
    "beta1 = 0.8\n",
    "beta2 = 0.9\n",
    "# bins before and after used for determining one time point\n",
    "d_before = 4\n",
    "d_after = 3\n"
   ]
  },
  {
   "cell_type": "markdown",
   "id": "00025183",
   "metadata": {},
   "source": [
    "### Minderer 2019"
   ]
  },
  {
   "cell_type": "code",
   "execution_count": 21,
   "id": "11077a88",
   "metadata": {},
   "outputs": [],
   "source": [
    "def predict(inputs, Ws):\n",
    "    '''make predictions of dF/F based on fitted weights and inputs'''\n",
    "    t = inputs.shape[0]\n",
    "    m = inputs.shape[1]\n",
    "    prediction = cp.zeros(t)\n",
    "    for i in range(t):\n",
    "        fs = 0\n",
    "        for j in range(m):\n",
    "            fs += cp.sum(Ws[j, :] * Bfuncs[j].forward(inputs[i, j]))\n",
    "        prediction[i] = fs\n",
    "    return prediction\n",
    "\n",
    "def fit_one_neuron(inputs, outputs):\n",
    "    m = inputs.shape[1]\n",
    "    global c, P\n",
    "#     optimizer = AdamOptimizer(lr, beta1, beta2)\n",
    "    loss_fn = PoissonLogPenaltyLoss(c, P, m)\n",
    "    Ws = cp.random.normal(loc=0, scale=0.1*math.sqrt(2/16), size=(m, 16))\n",
    "    t = inputs.shape[0]\n",
    "    loss_fn.add_paras(inputs, outputs)\n",
    "    res = minimize(loss_fn.loss, Ws.flatten(), method='BFGS')\n",
    "    Ws = res.x.reshape(m, 16)\n",
    "    return Ws\n"
   ]
  },
  {
   "cell_type": "code",
   "execution_count": 22,
   "id": "966102b0",
   "metadata": {},
   "outputs": [],
   "source": [
    "fit_scale = int(0.7*total_lenth)\n",
    "fit_inputs = inputs[0:fit_scale, :]\n",
    "fit_outputs = outputs[:, 0:fit_scale]\n",
    "test_inputs = inputs[fit_scale:, :]\n",
    "test_outputs = outputs[:, fit_scale:]"
   ]
  },
  {
   "cell_type": "code",
   "execution_count": 24,
   "id": "08cf3564",
   "metadata": {},
   "outputs": [],
   "source": [
    "# gaussian kernel\n",
    "# import cv2\n",
    "# kernel = cv2.getGaussianKernel(ksize=4, sigma=1)\n",
    "i = cp.array([0, 1, 2, 3])\n",
    "kernel = cp.exp(-(i-(4-1)/2)**2/2)\n",
    "kernel = kernel / cp.sum(kernel*i)\n",
    "fit_size = fit_inputs.shape[0]\n",
    "m = fit_inputs.shape[1]\n",
    "fit_inputs_smooth = cp.zeros(fit_inputs.shape)\n",
    "for i in range(3):\n",
    "    fit_inputs_smooth[i, :] = fit_inputs[i, :]\n",
    "for i in range(3, fit_size):\n",
    "    for j in range(m):\n",
    "        fit_inputs_smooth[i, j] = cp.sum(kernel*fit_inputs[i-3:i+1, j])"
   ]
  },
  {
   "cell_type": "code",
   "execution_count": 25,
   "id": "62683c92",
   "metadata": {},
   "outputs": [],
   "source": [
    "test_size = test_inputs.shape[0]\n",
    "test_inputs_smooth = cp.zeros(test_inputs.shape)\n",
    "for i in range(3):\n",
    "    test_inputs_smooth[i, :] = test_inputs[i, :]\n",
    "for i in range(3, test_size):\n",
    "    for j in range(m):\n",
    "        test_inputs_smooth[i, j] = cp.sum(kernel*test_inputs[i-3:i+1, j])"
   ]
  },
  {
   "cell_type": "markdown",
   "id": "1a003c69",
   "metadata": {},
   "source": [
    "### fit a GLM for each neuron"
   ]
  },
  {
   "cell_type": "code",
   "execution_count": 26,
   "id": "a1669b51",
   "metadata": {},
   "outputs": [
    {
     "name": "stdout",
     "output_type": "stream",
     "text": [
      "[8 6 9 9 8 5 7 8 7 7]\n"
     ]
    },
    {
     "ename": "TypeError",
     "evalue": "Implicit conversion to a NumPy array is not allowed. Please use `.get()` to construct a NumPy array explicitly.",
     "output_type": "error",
     "traceback": [
      "\u001b[1;31m---------------------------------------------------------------------------\u001b[0m",
      "\u001b[1;31mTypeError\u001b[0m                                 Traceback (most recent call last)",
      "File \u001b[1;32m<timed exec>:8\u001b[0m, in \u001b[0;36m<module>\u001b[1;34m\u001b[0m\n",
      "Input \u001b[1;32mIn [21]\u001b[0m, in \u001b[0;36mfit_one_neuron\u001b[1;34m(inputs, outputs)\u001b[0m\n\u001b[0;32m     19\u001b[0m t \u001b[38;5;241m=\u001b[39m inputs\u001b[38;5;241m.\u001b[39mshape[\u001b[38;5;241m0\u001b[39m]\n\u001b[0;32m     20\u001b[0m loss_fn\u001b[38;5;241m.\u001b[39madd_paras(inputs, outputs)\n\u001b[1;32m---> 21\u001b[0m res \u001b[38;5;241m=\u001b[39m \u001b[43mminimize\u001b[49m\u001b[43m(\u001b[49m\u001b[43mloss_fn\u001b[49m\u001b[38;5;241;43m.\u001b[39;49m\u001b[43mloss\u001b[49m\u001b[43m,\u001b[49m\u001b[43m \u001b[49m\u001b[43mWs\u001b[49m\u001b[38;5;241;43m.\u001b[39;49m\u001b[43mflatten\u001b[49m\u001b[43m(\u001b[49m\u001b[43m)\u001b[49m\u001b[43m,\u001b[49m\u001b[43m \u001b[49m\u001b[43mmethod\u001b[49m\u001b[38;5;241;43m=\u001b[39;49m\u001b[38;5;124;43m'\u001b[39;49m\u001b[38;5;124;43mBFGS\u001b[39;49m\u001b[38;5;124;43m'\u001b[39;49m\u001b[43m)\u001b[49m\n\u001b[0;32m     22\u001b[0m Ws \u001b[38;5;241m=\u001b[39m res\u001b[38;5;241m.\u001b[39mx\u001b[38;5;241m.\u001b[39mreshape(m, \u001b[38;5;241m16\u001b[39m)\n\u001b[0;32m     23\u001b[0m \u001b[38;5;28;01mreturn\u001b[39;00m Ws\n",
      "File \u001b[1;32m~\\anaconda3\\envs\\analysis\\lib\\site-packages\\scipy\\optimize\\_minimize.py:496\u001b[0m, in \u001b[0;36mminimize\u001b[1;34m(fun, x0, args, method, jac, hess, hessp, bounds, constraints, tol, callback, options)\u001b[0m\n\u001b[0;32m     45\u001b[0m \u001b[38;5;28;01mdef\u001b[39;00m \u001b[38;5;21mminimize\u001b[39m(fun, x0, args\u001b[38;5;241m=\u001b[39m(), method\u001b[38;5;241m=\u001b[39m\u001b[38;5;28;01mNone\u001b[39;00m, jac\u001b[38;5;241m=\u001b[39m\u001b[38;5;28;01mNone\u001b[39;00m, hess\u001b[38;5;241m=\u001b[39m\u001b[38;5;28;01mNone\u001b[39;00m,\n\u001b[0;32m     46\u001b[0m              hessp\u001b[38;5;241m=\u001b[39m\u001b[38;5;28;01mNone\u001b[39;00m, bounds\u001b[38;5;241m=\u001b[39m\u001b[38;5;28;01mNone\u001b[39;00m, constraints\u001b[38;5;241m=\u001b[39m(), tol\u001b[38;5;241m=\u001b[39m\u001b[38;5;28;01mNone\u001b[39;00m,\n\u001b[0;32m     47\u001b[0m              callback\u001b[38;5;241m=\u001b[39m\u001b[38;5;28;01mNone\u001b[39;00m, options\u001b[38;5;241m=\u001b[39m\u001b[38;5;28;01mNone\u001b[39;00m):\n\u001b[0;32m     48\u001b[0m     \u001b[38;5;124;03m\"\"\"Minimization of scalar function of one or more variables.\u001b[39;00m\n\u001b[0;32m     49\u001b[0m \n\u001b[0;32m     50\u001b[0m \u001b[38;5;124;03m    Parameters\u001b[39;00m\n\u001b[1;32m   (...)\u001b[0m\n\u001b[0;32m    494\u001b[0m \n\u001b[0;32m    495\u001b[0m \u001b[38;5;124;03m    \"\"\"\u001b[39;00m\n\u001b[1;32m--> 496\u001b[0m     x0 \u001b[38;5;241m=\u001b[39m \u001b[43mnp\u001b[49m\u001b[38;5;241;43m.\u001b[39;49m\u001b[43masarray\u001b[49m\u001b[43m(\u001b[49m\u001b[43mx0\u001b[49m\u001b[43m)\u001b[49m\n\u001b[0;32m    497\u001b[0m     \u001b[38;5;28;01mif\u001b[39;00m x0\u001b[38;5;241m.\u001b[39mdtype\u001b[38;5;241m.\u001b[39mkind \u001b[38;5;129;01min\u001b[39;00m np\u001b[38;5;241m.\u001b[39mtypecodes[\u001b[38;5;124m\"\u001b[39m\u001b[38;5;124mAllInteger\u001b[39m\u001b[38;5;124m\"\u001b[39m]:\n\u001b[0;32m    498\u001b[0m         x0 \u001b[38;5;241m=\u001b[39m np\u001b[38;5;241m.\u001b[39masarray(x0, dtype\u001b[38;5;241m=\u001b[39m\u001b[38;5;28mfloat\u001b[39m)\n",
      "File \u001b[1;32m~\\anaconda3\\envs\\analysis\\lib\\site-packages\\numpy\\core\\numeric.py:538\u001b[0m, in \u001b[0;36masarray\u001b[1;34m(a, dtype, order)\u001b[0m\n\u001b[0;32m    469\u001b[0m \u001b[38;5;129m@set_module\u001b[39m(\u001b[38;5;124m'\u001b[39m\u001b[38;5;124mnumpy\u001b[39m\u001b[38;5;124m'\u001b[39m)\n\u001b[0;32m    470\u001b[0m \u001b[38;5;28;01mdef\u001b[39;00m \u001b[38;5;21masarray\u001b[39m(a, dtype\u001b[38;5;241m=\u001b[39m\u001b[38;5;28;01mNone\u001b[39;00m, order\u001b[38;5;241m=\u001b[39m\u001b[38;5;28;01mNone\u001b[39;00m):\n\u001b[0;32m    471\u001b[0m     \u001b[38;5;124;03m\"\"\"Convert the input to an array.\u001b[39;00m\n\u001b[0;32m    472\u001b[0m \n\u001b[0;32m    473\u001b[0m \u001b[38;5;124;03m    Parameters\u001b[39;00m\n\u001b[1;32m   (...)\u001b[0m\n\u001b[0;32m    536\u001b[0m \n\u001b[0;32m    537\u001b[0m \u001b[38;5;124;03m    \"\"\"\u001b[39;00m\n\u001b[1;32m--> 538\u001b[0m     \u001b[38;5;28;01mreturn\u001b[39;00m \u001b[43marray\u001b[49m\u001b[43m(\u001b[49m\u001b[43ma\u001b[49m\u001b[43m,\u001b[49m\u001b[43m \u001b[49m\u001b[43mdtype\u001b[49m\u001b[43m,\u001b[49m\u001b[43m \u001b[49m\u001b[43mcopy\u001b[49m\u001b[38;5;241;43m=\u001b[39;49m\u001b[38;5;28;43;01mFalse\u001b[39;49;00m\u001b[43m,\u001b[49m\u001b[43m \u001b[49m\u001b[43morder\u001b[49m\u001b[38;5;241;43m=\u001b[39;49m\u001b[43morder\u001b[49m\u001b[43m)\u001b[49m\n",
      "File \u001b[1;32mcupy/core/core.pyx:1188\u001b[0m, in \u001b[0;36mcupy.core.core.ndarray.__array__\u001b[1;34m()\u001b[0m\n",
      "\u001b[1;31mTypeError\u001b[0m: Implicit conversion to a NumPy array is not allowed. Please use `.get()` to construct a NumPy array explicitly."
     ]
    }
   ],
   "source": [
    "%%time\n",
    "Ws_all = cp.zeros((cell_num, m, 16)) # weights for all neurons\n",
    "Ws_con_all = cp.zeros((cell_num, m, 16))\n",
    "shuff_times = 10\n",
    "roll_len = cp.random.randint(5, 10, size=shuff_times)\n",
    "print(roll_len)\n",
    "\n",
    "for cell_id in range(1):\n",
    "    Ws = fit_one_neuron(fit_inputs_smooth, fit_outputs[cell_id, :])\n",
    "#     Ws_all[cell_id, :, :] = Ws[:, :]\n",
    "#     # control fits for GLM\n",
    "#     Ws_con = np.zeros((m, 16))\n",
    "#     for turn in range(shuff_times):\n",
    "#         Ws_con += fit_one_neuron(fit_inputs, np.roll(fit_outputs[cell_id, :], roll_len[turn]))\n",
    "#     Ws_con /= shuff_times\n",
    "#     Ws_con_all[cell_id, :, :] = Ws_con[:, :]\n",
    "#     # plotting weights\n",
    "#     plt.subplot(311)\n",
    "#     plt.plot(Ws_con[0, :], label='fit_control')\n",
    "#     plt.plot(Ws[0, :], label='fit')\n",
    "#     plt.title('weights for position')\n",
    "#     plt.legend()\n",
    "#     plt.subplot(312)\n",
    "#     plt.plot(Ws_con[1, :], label='fit_control')\n",
    "#     plt.plot(Ws[1, :], label='fit')\n",
    "#     plt.title('weights for speed')\n",
    "#     plt.legend()\n",
    "#     plt.subplot(313)\n",
    "#     plt.plot(Ws_con[2, :], label='fit_control')\n",
    "#     plt.plot(Ws[2, :], label='fit')\n",
    "#     plt.title('weights for context')\n",
    "#     plt.legend()\n",
    "#     plt.suptitle('weights for neuron'+str(cell_id))\n",
    "#     plt.savefig(str(cell_id)+'weights.jpg')\n",
    "#     plt.show()\n",
    "\n",
    "#     # plotting predictions\n",
    "#     predict1 = np.exp(predict(test_inputs, Ws))\n",
    "#     predict2 = np.exp(predict(test_inputs, Ws_con))\n",
    "#     predictions[cell_id, :] = predict1[:]\n",
    "#     predictions_con[cell_id, :] = predict2[:]\n",
    "#     plt.plot(predict1, label='predict')\n",
    "#     plt.plot(predict2, label='predict control')\n",
    "#     plt.plot(test_outputs[cell_id, :], label='real')\n",
    "#     plt.legend()\n",
    "#     plt.xlabel('time(s)')\n",
    "#     plt.ylabel('dff')\n",
    "#     plt.show()\n",
    "\n",
    "# plt.imshow(predictions.T)\n",
    "# plt.colorbar()\n",
    "# plt.title('predictions for trial'+str(trial_id))\n",
    "# plt.show()\n",
    "\n",
    "# plt.imshow(predictions_con.T)\n",
    "# plt.colorbar()\n",
    "# plt.title('predictions control for trial'+str(trial_id))\n",
    "# plt.show()\n",
    "\n",
    "# plt.imshow(predictions.T - predictions_con.T)\n",
    "# plt.colorbar()\n",
    "# plt.title('errors for trial'+str(trial_id))\n",
    "# plt.show()"
   ]
  },
  {
   "cell_type": "code",
   "execution_count": null,
   "id": "ce0cfa15",
   "metadata": {},
   "outputs": [],
   "source": [
    " # plotting predictions\n",
    "cell_id = 1\n",
    "turn = test_inputs_smooth.shape[0] // 50\n",
    "bins = 50\n",
    "for i in range(turn):\n",
    "    predict1 = np.exp(predict(test_inputs_smooth[i*bins:(i+1)*bins], Ws))\n",
    "#     predict2 = np.exp(predict(test_inputs[i*bins:(i+1)*bins], Ws_con))\n",
    "#     predictions[cell_id, :] = predict1[:]\n",
    "#     predictions_con[cell_id, :] = predict2[:]\n",
    "    plt.plot(predict1, label='predict')\n",
    "#     plt.plot(predict2, label='predict control')\n",
    "    plt.plot(test_outputs[cell_id, i*bins:(i+1)*bins], label='real')\n",
    "    plt.legend()\n",
    "    plt.xlabel('time(s)')\n",
    "    plt.ylabel('dff')\n",
    "    plt.show()"
   ]
  },
  {
   "cell_type": "code",
   "execution_count": null,
   "id": "0bbaaf6d",
   "metadata": {},
   "outputs": [],
   "source": []
  }
 ],
 "metadata": {
  "kernelspec": {
   "display_name": "Python [conda env:analysis]",
   "language": "python",
   "name": "conda-env-analysis-py"
  },
  "language_info": {
   "codemirror_mode": {
    "name": "ipython",
    "version": 3
   },
   "file_extension": ".py",
   "mimetype": "text/x-python",
   "name": "python",
   "nbconvert_exporter": "python",
   "pygments_lexer": "ipython3",
   "version": "3.9.12"
  }
 },
 "nbformat": 4,
 "nbformat_minor": 5
}
