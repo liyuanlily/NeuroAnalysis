{
 "cells": [
  {
   "cell_type": "code",
   "execution_count": 1,
   "id": "d11c2656",
   "metadata": {},
   "outputs": [],
   "source": [
    "import numpy as np\n",
    "import math\n",
    "from matplotlib import pyplot as plt\n",
    "from scipy.spatial.distance import pdist, squareform\n",
    "from scipy.stats import zscore"
   ]
  },
  {
   "cell_type": "code",
   "execution_count": 2,
   "id": "137fa40d",
   "metadata": {},
   "outputs": [],
   "source": [
    "# load data\n",
    "cell_num = 884\n",
    "m = 3\n",
    "trial_num = 77\n",
    "positions = np.load('./Behaviour.npy', allow_pickle=True)\n",
    "speed = np.load('./Speed.npy', allow_pickle=True)\n",
    "dff_traces = np.load('./DFF_traces.npy', allow_pickle=True)\n",
    "contexts = np.load('./Map_index.npy', allow_pickle=True)\n",
    "pointer = np.load('./sync.npy', allow_pickle=True)"
   ]
  },
  {
   "cell_type": "code",
   "execution_count": 3,
   "id": "52c5a7ba",
   "metadata": {},
   "outputs": [],
   "source": [
    "cell_num = 884\n",
    "m = 3\n",
    "trial_num = 77\n",
    "map1_dff = np.load('./mapdata/Map1.npy', allow_pickle=True)\n",
    "map1_pl = np.load('./mapdata/m1_pc.npy', allow_pickle=True)\n",
    "map2_dff = np.load('./mapdata/Map2.npy', allow_pickle=True)\n",
    "map2_pl = np.load('./mapdata/m2_pc.npy', allow_pickle=True)\n",
    "map3_dff = np.load('./mapdata/Map3.npy', allow_pickle=True)\n",
    "map3_pl = np.load('./mapdata/m3_pc.npy', allow_pickle=True)\n",
    "map4_dff = np.load('./mapdata/Map4.npy', allow_pickle=True)\n",
    "map4_pl = np.load('./mapdata/m4_pc.npy', allow_pickle=True)"
   ]
  },
  {
   "cell_type": "code",
   "execution_count": null,
   "id": "fcfdcb32",
   "metadata": {},
   "outputs": [],
   "source": [
    "# reduce calcium white noise\n",
    "# a wavelet-based denoising algorithm\n",
    "# Savitsky-Golay filtering\n"
   ]
  },
  {
   "cell_type": "markdown",
   "id": "11e30aa4",
   "metadata": {},
   "source": [
    "### correlation during pre/post 4ef"
   ]
  },
  {
   "cell_type": "code",
   "execution_count": 4,
   "id": "8510c62c",
   "metadata": {},
   "outputs": [],
   "source": [
    "# get rest periods v<2cm/s from pre and post periods and smooth with gaussian kernel\n",
    "def get_rest(velocity, activity):  # velocity: [v over time] activity:[cell_id, activity]\n",
    "    cell_num = activity.shape[0]\n",
    "    indexs = np.where(velocity > 2)[0]\n",
    "    res_activity = activity[:, indexs[:]]\n",
    "    return res_activity\n",
    "\n",
    "def smooth(dffs, s_bins=15): # dffs: [cell_id, activity across positions]\n",
    "    cell_num = dffs.shape[0]\n",
    "    s_gaussian_kernel = np.exp(-(np.arange(s_bins)-(s_bins-1)/2)**2/2)\n",
    "    s_gaussian_kernel = s_gaussian_kernel / np.sum(s_gaussian_kernel*np.arange(s_bins))\n",
    "    smooth_dffs = np.zeros(dffs.shape)\n",
    "    for i in range(s_bins-1):\n",
    "        smooth_dffs[:, i] = (dffs[:, :i+1] @ s_gaussian_kernel[s_bins-i-1:].reshape(1+i, 1)).reshape(cell_num)\n",
    "    for i in range(s_bins-1, dffs.shape[1]):\n",
    "        smooth_dffs[:, i] = (dffs[:, i-s_bins+1:i+1] @ s_gaussian_kernel.reshape(s_bins, 1)).reshape(cell_num)\n",
    "    return smooth_dffs"
   ]
  },
  {
   "cell_type": "code",
   "execution_count": null,
   "id": "94c181c9",
   "metadata": {},
   "outputs": [],
   "source": [
    "# Savitzky–Golay filter\n",
    "# scipy.signal.savgol_filter"
   ]
  },
  {
   "cell_type": "code",
   "execution_count": null,
   "id": "d78d0710",
   "metadata": {},
   "outputs": [],
   "source": [
    "pre_rest = get_rest(speed[0], dff_traces[:, pointer[0]:pointer[1]])\n",
    "pre_rest = smooth(pre_rest)"
   ]
  },
  {
   "cell_type": "code",
   "execution_count": 5,
   "id": "b36e3d58",
   "metadata": {},
   "outputs": [],
   "source": [
    "def plot_corr(pre_dffs, pos_dffs, pl_peak): # dffs: [cell_id, activity]  pl_peak:[place field center(cm)]  one-to-one\n",
    "    pl_num = len(pl_peak)\n",
    "    pre_corr = np.corrcoef(pre_dffs)\n",
    "    pos_corr = np.corrcoef(pos_dffs)\n",
    "    pre_line = np.zeros(int(pl_num*(pl_num-1)/2))\n",
    "    pos_line = np.zeros(pre_line.shape[0])\n",
    "    pl_dis = np.zeros(pre_line.shape[0])\n",
    "    for i in range(pl_num):\n",
    "        for j in range(i):\n",
    "            pl_dis[int((i-1)*i/2)+j] = abs(pl_peak[i]-pl_peak[j]) / 1000\n",
    "            pre_line[int((i-1)*i/2)+j] = pre_corr[i, j]\n",
    "            pos_line[int((i-1)*i/2)+j] = pos_corr[i, j]\n",
    "    # put in 2cm position window 0.02m\n",
    "    win = 0.02\n",
    "    max_dis = np.max(pl_dis)\n",
    "    min_dis = np.min(pl_dis)\n",
    "    win_num = int((max_dis-min_dis)/win)+1\n",
    "    pre_mean = np.zeros(win_num)\n",
    "    pos_mean = np.zeros(win_num)\n",
    "    pre_all = [[] for i in range(win_num)]\n",
    "    pos_all = [[] for i in range(win_num)]\n",
    "    nums = np.zeros(win_num)\n",
    "    for k in range(len(pl_dis)):\n",
    "        pre_mean[int(pl_dis[k]/win)] += pre_line[k]\n",
    "        pos_mean[int(pl_dis[k]/win)] += pos_line[k]\n",
    "        pre_all[int(pl_dis[k]/win)].append(pre_line[k])\n",
    "        pos_all[int(pl_dis[k]/win)].append(pos_line[k])\n",
    "        nums[int(pl_dis[k]/win)] += 1\n",
    "    pre_mean /= nums\n",
    "    pos_mean /= nums\n",
    "    # add var bar\n",
    "    pre_var = np.zeros(win_num)\n",
    "    pos_var = np.zeros(win_num)\n",
    "    for i in range(win_num):\n",
    "        pre_var[i] = np.var(np.array(pre_all[i]))\n",
    "        pos_var[i] = np.var(np.array(pos_all[i]))\n",
    "    plt.plot(np.linspace(min_dis, min_dis+win*win_num, win_num), pre_mean, label='Pre')\n",
    "    plt.fill_between(x=np.linspace(min_dis, min_dis+win*win_num, win_num), y1=pre_mean-np.sqrt(pre_var), y2=pre_mean+np.sqrt(pre_var), alpha=0.1)\n",
    "    plt.plot(np.linspace(min_dis, min_dis+win*win_num, win_num), pos_mean, label='Pos')\n",
    "    plt.fill_between(x=np.linspace(min_dis, min_dis+win*win_num, win_num), y1=pos_mean-np.sqrt(pos_var), y2=pos_mean+np.sqrt(pos_var), alpha=0.1)\n",
    "    plt.legend()\n",
    "    plt.xlabel('Run PF \\n peak distance(m)')\n",
    "    plt.ylabel('Offline Pairwise \\n correlation coefficient')\n",
    "    plt.show()\n",
    "    "
   ]
  },
  {
   "cell_type": "code",
   "execution_count": 6,
   "id": "d6e858b4",
   "metadata": {},
   "outputs": [],
   "source": [
    "# get pre and pos dffs of place cells and their peaks\n",
    "def get_peak(pl_id, dff_pos, dffs, pos_bin, pres, poss):  # pl_id:[id of place cells]  dff_pos:[trials, cell_id, activity across positions]\n",
    "    # pres:[begin of pre, end of pre] poss:[begin of pos, end of pos]\n",
    "    pl_peak = np.zeros(len(pl_id))\n",
    "    pre_dffs = np.zeros((len(pl_id), pres[1]-pres[0]))\n",
    "    pos_dffs = np.zeros((len(pl_id), poss[1]-poss[0]))\n",
    "    dff_aver = np.mean(dff_pos, axis=0)  # average over trials\n",
    "    for i in range(len(pl_id)):\n",
    "        pre_dffs[i, :] = dffs[pl_id[i], pres[0]:pres[1]]\n",
    "        pos_dffs[i, :] = dffs[pl_id[i], poss[0]:poss[1]]\n",
    "        pl_peak[i] = np.argmax(dff_aver[pl_id[i]])*pos_bin\n",
    "    return pre_dffs, pos_dffs, pl_peak"
   ]
  },
  {
   "cell_type": "markdown",
   "id": "e40ffb6a",
   "metadata": {},
   "source": [
    "#### single session"
   ]
  },
  {
   "cell_type": "code",
   "execution_count": 52,
   "id": "875e715e",
   "metadata": {},
   "outputs": [
    {
     "data": {
      "image/png": "[encoded data removed]",
      "text/plain": [
       "<Figure size 432x288 with 1 Axes>"
      ]
     },
     "metadata": {
      "needs_background": "light"
     },
     "output_type": "display_data"
    }
   ],
   "source": [
    "plot_corr(pre_dffs, pos_dffs, pl_peak)"
   ]
  },
  {
   "cell_type": "markdown",
   "id": "ba78625b",
   "metadata": {},
   "source": [
    "#### all sessions"
   ]
  },
  {
   "cell_type": "code",
   "execution_count": null,
   "id": "cd1c6392",
   "metadata": {},
   "outputs": [],
   "source": [
    "plot_corr(pre_dffs, pos_dffs, pl_peak)"
   ]
  },
  {
   "cell_type": "code",
   "execution_count": null,
   "id": "a3357f8e",
   "metadata": {},
   "outputs": [],
   "source": [
    "# plot across map?"
   ]
  },
  {
   "cell_type": "markdown",
   "id": "27f96ede",
   "metadata": {},
   "source": [
    "### offline population synchrony 3e"
   ]
  },
  {
   "cell_type": "code",
   "execution_count": 15,
   "id": "35fd6f97",
   "metadata": {},
   "outputs": [],
   "source": [
    "# get synchrony events from pre and post rest periods\n",
    "# PSE population synchrony events\n",
    "def get_syn(activity, velocity=None, sign='pre'):  # activity: [cell_id, activity across time] after smoothing\n",
    "    population = np.mean(activity, axis=0)\n",
    "    mean = np.mean(population)\n",
    "    std = np.std(population)\n",
    "    start = None\n",
    "    end = None\n",
    "    HSE_events = []\n",
    "    if sign is 'run':\n",
    "        for t in range(activity.shape[1]):\n",
    "            if velocity[t] < 2:\n",
    "                if population[t] > mean + 3.5 * std and (start is None):\n",
    "                    start = t\n",
    "                elif population[t] < mean + 1 * std and (start is not None):\n",
    "                    end = t\n",
    "                    if end - start >= 3: # should be 12\n",
    "#                     print('pass one')\n",
    "                        if np.where(np.mean(activity[:, start:end], axis=1)>0)[0].shape[0] >= 5:\n",
    "                            HSE_events.append([start, end])\n",
    "#                         print('one HSE events')\n",
    "#                 print('reset')\n",
    "                    start = None\n",
    "    else:\n",
    "        for t in range(activity.shape[1]):\n",
    "            if population[t] > mean + 3.5 * std and (start is None):\n",
    "                start = t\n",
    "            elif population[t] < mean + 1 * std and (start is not None):\n",
    "                end = t\n",
    "                if end - start >= 3: # should be 12\n",
    "#                     print('pass one')\n",
    "                    if np.where(np.mean(activity[:, start:end], axis=1)>0)[0].shape[0] >= 5:\n",
    "                        HSE_events.append([start, end])\n",
    "#                         print('one HSE events')\n",
    "#                 print('reset')\n",
    "                start = None\n",
    "    return HSE_events  # HSE of place cell"
   ]
  },
  {
   "cell_type": "code",
   "execution_count": 8,
   "id": "7842491d",
   "metadata": {},
   "outputs": [],
   "source": [
    "def plot_corr_syn(pre_dffs, pos_dffs, pl_peak): # dffs: [cell_id, activity]  pl_peak:[place field center(cm)]  one-to-one\n",
    "    pl_num = len(pl_peak)\n",
    "    pre_corr = np.corrcoef(pre_dffs)\n",
    "    pos_corr = np.corrcoef(pos_dffs)\n",
    "    pre_line = np.zeros(int(pl_num*(pl_num-1)/2))\n",
    "    pos_line = np.zeros(pre_line.shape[0])\n",
    "    pl_dis = np.zeros(pre_line.shape[0])\n",
    "    for i in range(pl_num):\n",
    "        for j in range(i):\n",
    "            pl_dis[int((i-1)*i/2)+j] = abs(pl_peak[i]-pl_peak[j]) / 1000\n",
    "            pre_line[int((i-1)*i/2)+j] = pre_corr[i, j]\n",
    "            pos_line[int((i-1)*i/2)+j] = pos_corr[i, j]\n",
    "    # put in 2cm position window 0.02m\n",
    "    win = 0.02\n",
    "    max_dis = np.max(pl_dis)\n",
    "    min_dis = np.min(pl_dis)\n",
    "    win_num = int((max_dis-min_dis)/win)+1\n",
    "    pre_mean = np.zeros(win_num)\n",
    "    pos_mean = np.zeros(win_num)\n",
    "    nums = np.zeros(win_num)\n",
    "    for k in range(len(pl_dis)):\n",
    "        pre_mean[int(pl_dis[k]/win)] += pre_line[k]\n",
    "        pos_mean[int(pl_dis[k]/win)] += pos_line[k]\n",
    "        nums[int(pl_dis[k]/win)] += 1\n",
    "    pre_mean /= nums\n",
    "    pos_mean /= nums\n",
    "    plt.scatter(np.log(pre_mean), np.log(pos_mean), marker='+')\n",
    "    plt.plot(np.linspace(-10, -1, 100), np.linspace(-10, -1, 100), linestyle='--')\n",
    "    plt.xlabel('Pre offline synchrony \\n (mean corrected coefficient, log-scale)')\n",
    "    plt.ylabel('Pos offline synchrony \\n (mean corrected coefficient, log-scale)')\n",
    "    plt.show()    "
   ]
  },
  {
   "cell_type": "code",
   "execution_count": 70,
   "id": "5fa0c4cf",
   "metadata": {},
   "outputs": [
    {
     "name": "stderr",
     "output_type": "stream",
     "text": [
      "C:\\Users\\lily\\anaconda3\\envs\\hippo_env\\lib\\site-packages\\ipykernel_launcher.py:27: RuntimeWarning: invalid value encountered in log\n"
     ]
    },
    {
     "data": {
      "image/png": "[encoded data removed]",
      "text/plain": [
       "<Figure size 432x288 with 1 Axes>"
      ]
     },
     "metadata": {
      "needs_background": "light"
     },
     "output_type": "display_data"
    }
   ],
   "source": [
    "plot_corr_syn(pre_dffs, pos_dffs, pl_peak)"
   ]
  },
  {
   "cell_type": "markdown",
   "id": "ebd68e1d",
   "metadata": {},
   "source": [
    "### find global reactivation events"
   ]
  },
  {
   "cell_type": "code",
   "execution_count": 16,
   "id": "e190ca54",
   "metadata": {},
   "outputs": [],
   "source": [
    "# get PSEs\n",
    "# 1. offline immobility, smooth with 125ms gaussian kernel:smooth\n",
    "# 2. zscoring: zscore\n",
    "# 3. get_syn\n",
    "test = smooth(dff_traces)\n",
    "test = zscore(test)\n",
    "syn=get_syn(test, np.zeros(test.shape[1]))"
   ]
  },
  {
   "cell_type": "code",
   "execution_count": 90,
   "id": "d937c94c",
   "metadata": {},
   "outputs": [],
   "source": [
    "# global: all cell activity"
   ]
  },
  {
   "cell_type": "code",
   "execution_count": 1,
   "id": "92e0f87c",
   "metadata": {},
   "outputs": [],
   "source": [
    "# heatmap\n",
    "def syn_heatmap(HSE_events, activity):\n",
    "    for event in HSE_events:\n",
    "        if event[0] < 20:\n",
    "            if event[1]+20>activity.shape[1]:\n",
    "                around = activity[:, :]\n",
    "                x_a = np.arange(activity.shape[1])\n",
    "                x_s = np.arange(event[0],event[1],1)\n",
    "            else:\n",
    "                around = activity[:, :event[1]+20]\n",
    "                x_a = np.arange(event[1]+20)\n",
    "                x_s = np.arange(event[0],event[1],1)\n",
    "        else:\n",
    "            if event[1]+20>activity.shape[1]:\n",
    "                around = activity[:, event[0]-20:]\n",
    "                x_a = np.arange(event[0]-20, activity.shape[1], 1)\n",
    "                x_s = np.arange(event[0],event[1],1)\n",
    "            else:\n",
    "                around = activity[:, event[0]-20:event[1]+20]\n",
    "                x_a = np.arange(event[0]-20, event[1]+20, 1)\n",
    "                x_s = np.arange(event[0],event[1],1)\n",
    "        syn = activity[:, event[0]:event[1]]\n",
    "   \n",
    "        plt.subplot(211)\n",
    "        plt.plot(x_a, np.mean(around, axis=0))\n",
    "        plt.plot(x_s, np.mean(syn, axis=0))\n",
    "        plt.subplot(212)\n",
    "        plt.eventplot(event, lineoffsets=np.arange(event.shape[0]))\n",
    "        plt.xlim(x_a[0], x_a[1])\n",
    "        plt.xlabel('Frame')\n",
    "        plt.ylabel('Cell no.')\n",
    "        plt.show()"
   ]
  },
  {
   "cell_type": "code",
   "execution_count": 13,
   "id": "e167f163",
   "metadata": {},
   "outputs": [
    {
     "data": {
      "image/png": "[encoded data removed]",
      "text/plain": [
       "<Figure size 432x288 with 2 Axes>"
      ]
     },
     "metadata": {
      "needs_background": "light"
     },
     "output_type": "display_data"
    }
   ],
   "source": [
    "syn_heatmap(syn)"
   ]
  },
  {
   "cell_type": "code",
   "execution_count": null,
   "id": "e823efd2",
   "metadata": {},
   "outputs": [],
   "source": [
    "# local: only place cell activity\n",
    "# compare to chance rate\n",
    "# get PSE from only place cells\n",
    "# shuffle 2000 times: np.roll"
   ]
  }
 ],
 "metadata": {
  "kernelspec": {
   "display_name": "Python [conda env:analysis]",
   "language": "python",
   "name": "conda-env-analysis-py"
  },
  "language_info": {
   "codemirror_mode": {
    "name": "ipython",
    "version": 3
   },
   "file_extension": ".py",
   "mimetype": "text/x-python",
   "name": "python",
   "nbconvert_exporter": "python",
   "pygments_lexer": "ipython3",
   "version": "3.9.12"
  }
 },
 "nbformat": 4,
 "nbformat_minor": 5
}
